{
 "cells": [
  {
   "cell_type": "code",
   "execution_count": 1,
   "metadata": {
    "collapsed": true,
    "pycharm": {
     "name": "#%%\n"
    }
   },
   "outputs": [],
   "source": [
    "from pypfopt import EfficientFrontier\n",
    "from pypfopt import risk_models\n",
    "from pypfopt import expected_returns\n",
    "from pypfopt.risk_models import CovarianceShrinkage\n",
    "from pypfopt.black_litterman import BlackLittermanModel\n",
    "from pypfopt import black_litterman, risk_models"
   ]
  },
  {
   "cell_type": "code",
   "execution_count": null,
   "outputs": [],
   "source": [
    "viewdict = {\"Basis\": 0.20, \"HP\": 0.20, \"Momentum\": 0.20, \"Skewness\": 0.20, \"Basis-Mom\": 0.20}\n",
    "L = 120\n",
    "style_ret = style_rets[(style_rets.index>= pd.to_datetime(start)-DateOffset(months=L-1))&(style_rets.index<=end)]\n",
    "cov = style_ret.fillna(0).rolling(L).cov()\n",
    "keys = list(sorted(Thetas.keys()))\n",
    "mu = style_ret.rolling(L).mean().fillna(0)\n",
    "BOI_weights = dict()\n",
    "BOI_weights_style = dict()\n",
    "for key in tqdm(keys):\n",
    "    if recursive:\n",
    "        tmp = style_rets.loc[:key].fillna(0)\n",
    "    else:\n",
    "        tmp = style_rets[(style_rets.index>= pd.to_datetime(key)-DateOffset(months=L-1))&(style_rets.index<=key)]\n",
    "    mu = expected_returns.mean_historical_return(tmp.fillna(0),returns_data=True,log_returns=True, frequency=12)\n",
    "    #S = risk_models.sample_cov(tmp.fillna(0),returns_data=True,log_returns=True, frequency=12)\n",
    "    S = risk_models.CovarianceShrinkage(tmp.fillna(0),returns_data=True,log_returns=True, frequency=12).ledoit_wolf('single_factor')\n",
    "    Theta = Thetas[key].fillna(0)\n",
    "\n",
    "    P = np.array([\n",
    "        [1,0,0,0,0],\n",
    "        [0,1,0,0,0],\n",
    "        [0,0,1,0,0],\n",
    "        [0,0,0,1,0],\n",
    "        [0,0,0,0,1]])\n",
    "    Q = np.array([[0.002],[0.002],[0.002],[0.002],[0.002]]) # 2-vector\n",
    "    delta = 5\n",
    "    Omega = BlackLittermanModel.default_omega(S, P = P, tau = 0.3) # 0.01\n",
    "    bl = BlackLittermanModel(S, P = P, Q = Q, omega = Omega)\n",
    "    w = np.reshape(np.array(list(bl.bl_weights(delta).values())),(5,1))\n",
    "\n",
    "#     bl = BlackLittermanModel(S, absolute_views=viewdict)\n",
    "#     ef = EfficientFrontier(bl.bl_returns(), tmp.fillna(0).cov())\n",
    "#     raw_weights = ef.max_sharpe()\n",
    "#     cleaned_weights = ef.clean_weights()\n",
    "#     w = np.reshape(np.array(list(raw_weights.values())),(5,1))\n",
    "    BOI_weights[key] = np.reshape((Theta.values @ w), n)\n",
    "    BOI_weights_style[key] = np.reshape(w,5)\n",
    "BOI_weights = pd.DataFrame(BOI_weights.values(), index = ret.index[(ret.index>=start)&(ret.index<=end)])\n",
    "BOI_weights = BOI_weights.fillna(0).apply(lambda x: x.divide(BOI_weights.abs().sum(axis=1,skipna=True)))\n",
    "BOI_weights.columns = ret.columns\n",
    "BOI_return = (BOI_weights.shift(1) * ret[(ret.index>=start)&(ret.index<=end)]).fillna(0).sum(axis=1)\n",
    "\n",
    "BOI_weights_style = pd.DataFrame(BOI_weights_style.values(), index = ret.index[(ret.index>=start)&(ret.index<=end)])\n",
    "#BOI_weights_style = BOI_weights_style.apply(lambda x: x/sum(abs(x)))\n",
    "BOI_weights_style = BOI_weights_style.fillna(0).apply(lambda x: x.divide(BOI_weights_style.abs().sum(axis=1,skipna=True)))\n",
    "BOI_weights_style.columns = style_ret.columns\n",
    "BOI_style_return = (BOI_weights_style.shift(1) * style_ret[(style_ret.index>=start)&(style_ret.index<=end)]).fillna(0).sum(axis=1)"
   ],
   "metadata": {
    "collapsed": false,
    "pycharm": {
     "name": "#%%\n"
    }
   }
  }
 ],
 "metadata": {
  "kernelspec": {
   "display_name": "Python 3",
   "language": "python",
   "name": "python3"
  },
  "language_info": {
   "codemirror_mode": {
    "name": "ipython",
    "version": 2
   },
   "file_extension": ".py",
   "mimetype": "text/x-python",
   "name": "python",
   "nbconvert_exporter": "python",
   "pygments_lexer": "ipython2",
   "version": "2.7.6"
  }
 },
 "nbformat": 4,
 "nbformat_minor": 0
}