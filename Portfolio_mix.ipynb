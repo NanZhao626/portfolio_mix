{
 "cells": [
  {
   "cell_type": "code",
   "execution_count": 1,
   "metadata": {
    "collapsed": true,
    "pycharm": {
     "name": "#%%\n"
    }
   },
   "outputs": [],
   "source": [
    "from bayesian_portfolio_mix import portfolio_mix_function\n",
    "import pandas as pd\n",
    "import numpy as np\n",
    "import quantstats as qs"
   ]
  },
  {
   "cell_type": "code",
   "execution_count": 2,
   "outputs": [],
   "source": [
    "style_returns = pd.read_csv(\"style_rets.csv\")\n",
    "style_returns.set_index('Unnamed: 0', inplace=True)\n",
    "style_returns.index.name = \"date\"\n",
    "style_returns.index = pd.to_datetime(style_returns.index)"
   ],
   "metadata": {
    "collapsed": false,
    "pycharm": {
     "name": "#%%\n"
    }
   }
  },
  {
   "cell_type": "code",
   "execution_count": 3,
   "outputs": [],
   "source": [
    "style_weights_prior = {\"Basis\": 0.20, \"HP\": 0.20, \"Momentum\": 0.20, \"Skewness\": 0.20, \"Basis-Mom\": 0.20}\n",
    "estimation_window = 120\n",
    "p_matrix = np.array([\n",
    "        [1,0,0,0,0],\n",
    "        [0,1,0,0,0],\n",
    "        [0,0,1,0,0],\n",
    "        [0,0,0,1,0],\n",
    "        [0,0,0,0,1]])\n",
    "q_matrix = np.array([[0.002],[0.002],[0.002],[0.002],[0.002]])\n",
    "delta = 5\n",
    "tau = 0.05\n",
    "portfolio_start = \"1992-01-31\"\n",
    "portfolio_end = \"2021-12-31\"\n",
    "recursive = False"
   ],
   "metadata": {
    "collapsed": false,
    "pycharm": {
     "name": "#%%\n"
    }
   }
  },
  {
   "cell_type": "code",
   "execution_count": 4,
   "outputs": [
    {
     "name": "stderr",
     "output_type": "stream",
     "text": [
      "100%|██████████| 360/360 [00:01<00:00, 306.54it/s]\n"
     ]
    }
   ],
   "source": [
    "bayesian_returns = portfolio_mix_function(\n",
    "                    style_weights_prior=style_weights_prior,\n",
    "                    estimation_window=estimation_window,\n",
    "                    style_returns=style_returns,\n",
    "                    p_matrix=p_matrix,\n",
    "                    q_matrix=q_matrix,\n",
    "                    delta=delta,\n",
    "                    tau=tau,\n",
    "                    portfolio_start=portfolio_start,\n",
    "                    portfolio_end=portfolio_end,\n",
    "                    recursive=recursive\n",
    "                    )"
   ],
   "metadata": {
    "collapsed": false,
    "pycharm": {
     "name": "#%%\n"
    }
   }
  },
  {
   "cell_type": "code",
   "execution_count": 5,
   "outputs": [
    {
     "name": "stdout",
     "output_type": "stream",
     "text": [
      "[*********************100%***********************]  1 of 1 completed"
     ]
    },
    {
     "name": "stderr",
     "output_type": "stream",
     "text": [
      "C:\\Users\\wenxi\\AppData\\Roaming\\Python\\Python39\\site-packages\\yfinance\\utils.py:711: UserWarning: Pandas requires version '2022.1' or newer of 'tzdata' (version '2021.5' currently installed).\n",
      "  md[k] = _pd.to_datetime(md[k], unit='s', utc=True).tz_convert(tz)\n"
     ]
    },
    {
     "name": "stdout",
     "output_type": "stream",
     "text": [
      "\n",
      "                    Benchmark (SPY)    Strategy\n",
      "------------------  -----------------  ----------\n",
      "Start Period        1992-01-31         1992-01-31\n",
      "End Period          2021-12-31         2021-12-31\n",
      "Risk-Free Rate      0.0%               0.0%\n",
      "Time in Market      97.0%              97.0%\n",
      "\n",
      "Cumulative Return   980.99%            356.77%\n",
      "CAGR﹪              5.64%              3.57%\n",
      "\n",
      "Sharpe              0.62               0.97\n",
      "Prob. Sharpe Ratio  99.94%             100.0%\n",
      "Sortino             0.93               1.82\n",
      "Sortino/√2          0.66               1.29\n",
      "Omega               2.2                2.2\n",
      "\n",
      "Max Drawdown        -52.2%             -11.2%\n",
      "Longest DD Days     2405               673\n",
      "\n",
      "Gain/Pain Ratio     0.61               1.2\n",
      "Gain/Pain (1M)      0.61               1.2\n",
      "\n",
      "Payoff Ratio        0.99               1.7\n",
      "Profit Factor       1.61               2.2\n",
      "Common Sense Ratio  1.62               3.27\n",
      "CPC Index           1.0                2.22\n",
      "Tail Ratio          1.01               1.49\n",
      "Outlier Win Ratio   2.44               5.76\n",
      "Outlier Loss Ratio  1.92               7.24\n",
      "\n",
      "MTD                 4.26%              0.36%\n",
      "3M                  5.18%              1.32%\n",
      "6M                  13.17%             -9.57%\n",
      "YTD                 27.04%             -0.27%\n",
      "1Y                  31.18%             2.32%\n",
      "3Y (ann.)           16.41%             3.53%\n",
      "5Y (ann.)           11.16%             2.47%\n",
      "10Y (ann.)          9.7%               2.46%\n",
      "All-time (ann.)     5.64%              3.57%\n",
      "\n",
      "Avg. Drawdown       -6.91%             -2.11%\n",
      "Avg. Drawdown Days  161                116\n",
      "Recovery Factor     5.18               13.98\n",
      "Ulcer Index         0.16               0.02\n",
      "Serenity Index      2.22               23.81\n"
     ]
    }
   ],
   "source": [
    "qs.reports.metrics(bayesian_returns, \"SPY\", periods_per_year=12)"
   ],
   "metadata": {
    "collapsed": false,
    "pycharm": {
     "name": "#%%\n"
    }
   }
  }
 ],
 "metadata": {
  "kernelspec": {
   "name": "paper2",
   "language": "python",
   "display_name": "paper2"
  },
  "language_info": {
   "codemirror_mode": {
    "name": "ipython",
    "version": 2
   },
   "file_extension": ".py",
   "mimetype": "text/x-python",
   "name": "python",
   "nbconvert_exporter": "python",
   "pygments_lexer": "ipython2",
   "version": "2.7.6"
  }
 },
 "nbformat": 4,
 "nbformat_minor": 0
}